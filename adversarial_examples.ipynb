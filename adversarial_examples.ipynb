{
 "cells": [
  {
   "cell_type": "markdown",
   "metadata": {},
   "source": [
    "# Adversarial Examples for MNIST"
   ]
  },
  {
   "cell_type": "code",
   "execution_count": 2,
   "metadata": {},
   "outputs": [
    {
     "data": {
      "text/plain": [
       "<All keys matched successfully>"
      ]
     },
     "execution_count": 2,
     "metadata": {},
     "output_type": "execute_result"
    }
   ],
   "source": [
    "import torch\n",
    "import numpy as np\n",
    "\n",
    "from cnn import CNN\n",
    "from dataloader_utils import make_mnist_dataloaders\n",
    "\n",
    "BATCH_SIZE = 64\n",
    "NUM_WORKERS = 1\n",
    "DATA_DIR = '/tmp/mnist_data/'\n",
    "NUM_CHAN = 1\n",
    "NUM_CLASS = 10\n",
    "CLASSIFIER_MODEL_FILE = '/home/dylan/trained_model_files/pytorch/glados/glados_classifier/glados_classifier_net.pt'\n",
    "\n",
    "# intialize MNIST dataloaders\n",
    "train_loader, test_loader = make_mnist_dataloaders(\n",
    "    batch_size=BATCH_SIZE,\n",
    "    num_workers=NUM_WORKERS,\n",
    "    data_dir=DATA_DIR\n",
    ")\n",
    "\n",
    "# initialize classifier\n",
    "classifier = CNN(\n",
    "    in_chan=NUM_CHAN,\n",
    "    out_dim=NUM_CLASS,\n",
    "    out_act=None\n",
    ")\n",
    "\n",
    "# load trained cnn classifier paremeters\n",
    "classifier.load_state_dict(torch.load(CLASSIFIER_MODEL_FILE, map_location=torch.device('cpu')))"
   ]
  },
  {
   "cell_type": "code",
   "execution_count": null,
   "metadata": {},
   "outputs": [],
   "source": []
  }
 ],
 "metadata": {
  "kernelspec": {
   "display_name": "Python 3",
   "language": "python",
   "name": "python3"
  },
  "language_info": {
   "codemirror_mode": {
    "name": "ipython",
    "version": 3
   },
   "file_extension": ".py",
   "mimetype": "text/x-python",
   "name": "python",
   "nbconvert_exporter": "python",
   "pygments_lexer": "ipython3",
   "version": "3.7.4"
  }
 },
 "nbformat": 4,
 "nbformat_minor": 4
}
